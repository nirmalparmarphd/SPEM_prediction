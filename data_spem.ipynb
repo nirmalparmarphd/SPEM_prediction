{
 "cells": [
  {
   "cell_type": "markdown",
   "metadata": {},
   "source": [
    "# Importing packages"
   ]
  },
  {
   "cell_type": "code",
   "execution_count": 49,
   "metadata": {},
   "outputs": [],
   "source": [
    "import pandas as pd\n",
    "import numpy as np\n",
    "import tensorflow as tf \n",
    "import seaborn as sns \n",
    "import matplotlib as plt\n",
    "sns.set()\n"
   ]
  },
  {
   "cell_type": "markdown",
   "metadata": {},
   "source": [
    "# Data Processing"
   ]
  },
  {
   "cell_type": "markdown",
   "metadata": {},
   "source": [
    "## Data Loading"
   ]
  },
  {
   "cell_type": "code",
   "execution_count": 57,
   "metadata": {},
   "outputs": [
    {
     "data": {
      "text/html": [
       "<div>\n",
       "<style scoped>\n",
       "    .dataframe tbody tr th:only-of-type {\n",
       "        vertical-align: middle;\n",
       "    }\n",
       "\n",
       "    .dataframe tbody tr th {\n",
       "        vertical-align: top;\n",
       "    }\n",
       "\n",
       "    .dataframe thead th {\n",
       "        text-align: right;\n",
       "    }\n",
       "</style>\n",
       "<table border=\"1\" class=\"dataframe\">\n",
       "  <thead>\n",
       "    <tr style=\"text-align: right;\">\n",
       "      <th></th>\n",
       "      <th>Unnamed: 0</th>\n",
       "      <th>Unnamed: 1</th>\n",
       "      <th>Unnamed: 2</th>\n",
       "      <th>Unnamed: 3</th>\n",
       "      <th>Unnamed: 4</th>\n",
       "      <th>Unnamed: 5</th>\n",
       "      <th>Unnamed: 6</th>\n",
       "      <th>Unnamed: 7</th>\n",
       "      <th>Unnamed: 8</th>\n",
       "    </tr>\n",
       "  </thead>\n",
       "  <tbody>\n",
       "    <tr>\n",
       "      <th>0</th>\n",
       "      <td>NaN</td>\n",
       "      <td>NaN</td>\n",
       "      <td>NaN</td>\n",
       "      <td>NaN</td>\n",
       "      <td>NaN</td>\n",
       "      <td>NaN</td>\n",
       "      <td>NaN</td>\n",
       "      <td>NaN</td>\n",
       "      <td>NaN</td>\n",
       "    </tr>\n",
       "    <tr>\n",
       "      <th>1</th>\n",
       "      <td>NaN</td>\n",
       "      <td>NaN</td>\n",
       "      <td>NaN</td>\n",
       "      <td>NaN</td>\n",
       "      <td>NaN</td>\n",
       "      <td>NaN</td>\n",
       "      <td>NaN</td>\n",
       "      <td>NaN</td>\n",
       "      <td>NaN</td>\n",
       "    </tr>\n",
       "    <tr>\n",
       "      <th>2</th>\n",
       "      <td>1.0</td>\n",
       "      <td>38.2</td>\n",
       "      <td>22.6</td>\n",
       "      <td>33.0</td>\n",
       "      <td>22.0</td>\n",
       "      <td>6.111111</td>\n",
       "      <td>0.0</td>\n",
       "      <td>5.2</td>\n",
       "      <td>1.00</td>\n",
       "    </tr>\n",
       "    <tr>\n",
       "      <th>3</th>\n",
       "      <td>2.0</td>\n",
       "      <td>37.3</td>\n",
       "      <td>22.6</td>\n",
       "      <td>49.0</td>\n",
       "      <td>24.0</td>\n",
       "      <td>6.666667</td>\n",
       "      <td>0.0</td>\n",
       "      <td>5.5</td>\n",
       "      <td>3.45</td>\n",
       "    </tr>\n",
       "    <tr>\n",
       "      <th>4</th>\n",
       "      <td>3.0</td>\n",
       "      <td>37.7</td>\n",
       "      <td>21.9</td>\n",
       "      <td>37.0</td>\n",
       "      <td>14.0</td>\n",
       "      <td>3.888889</td>\n",
       "      <td>0.0</td>\n",
       "      <td>5.7</td>\n",
       "      <td>3.68</td>\n",
       "    </tr>\n",
       "  </tbody>\n",
       "</table>\n",
       "</div>"
      ],
      "text/plain": [
       "   Unnamed: 0  Unnamed: 1  Unnamed: 2  Unnamed: 3  Unnamed: 4  Unnamed: 5  \\\n",
       "0         NaN         NaN         NaN         NaN         NaN         NaN   \n",
       "1         NaN         NaN         NaN         NaN         NaN         NaN   \n",
       "2         1.0        38.2        22.6        33.0        22.0    6.111111   \n",
       "3         2.0        37.3        22.6        49.0        24.0    6.666667   \n",
       "4         3.0        37.7        21.9        37.0        14.0    3.888889   \n",
       "\n",
       "   Unnamed: 6  Unnamed: 7  Unnamed: 8  \n",
       "0         NaN         NaN         NaN  \n",
       "1         NaN         NaN         NaN  \n",
       "2         0.0         5.2        1.00  \n",
       "3         0.0         5.5        3.45  \n",
       "4         0.0         5.7        3.68  "
      ]
     },
     "execution_count": 57,
     "metadata": {},
     "output_type": "execute_result"
    }
   ],
   "source": [
    "# importing data\n",
    "\n",
    "raw_data = pd.read_csv('sea_water.csv')\n",
    "raw_data.head()"
   ]
  },
  {
   "cell_type": "markdown",
   "metadata": {},
   "source": [
    "## Data Cleaning"
   ]
  },
  {
   "cell_type": "code",
   "execution_count": 62,
   "metadata": {},
   "outputs": [
    {
     "data": {
      "text/html": [
       "<div>\n",
       "<style scoped>\n",
       "    .dataframe tbody tr th:only-of-type {\n",
       "        vertical-align: middle;\n",
       "    }\n",
       "\n",
       "    .dataframe tbody tr th {\n",
       "        vertical-align: top;\n",
       "    }\n",
       "\n",
       "    .dataframe thead th {\n",
       "        text-align: right;\n",
       "    }\n",
       "</style>\n",
       "<table border=\"1\" class=\"dataframe\">\n",
       "  <thead>\n",
       "    <tr style=\"text-align: right;\">\n",
       "      <th></th>\n",
       "      <th>Date April</th>\n",
       "      <th>Max_T</th>\n",
       "      <th>Min_T</th>\n",
       "      <th>RH(%)</th>\n",
       "      <th>WS(mps)</th>\n",
       "      <th>Den(Be)</th>\n",
       "      <th>Evp(mm)</th>\n",
       "    </tr>\n",
       "  </thead>\n",
       "  <tbody>\n",
       "    <tr>\n",
       "      <th>0</th>\n",
       "      <td>2.0</td>\n",
       "      <td>37.3</td>\n",
       "      <td>22.6</td>\n",
       "      <td>49.0</td>\n",
       "      <td>6.666667</td>\n",
       "      <td>5.5</td>\n",
       "      <td>3.45</td>\n",
       "    </tr>\n",
       "    <tr>\n",
       "      <th>1</th>\n",
       "      <td>3.0</td>\n",
       "      <td>37.7</td>\n",
       "      <td>21.9</td>\n",
       "      <td>37.0</td>\n",
       "      <td>3.888889</td>\n",
       "      <td>5.7</td>\n",
       "      <td>3.68</td>\n",
       "    </tr>\n",
       "    <tr>\n",
       "      <th>2</th>\n",
       "      <td>4.0</td>\n",
       "      <td>39.2</td>\n",
       "      <td>25.2</td>\n",
       "      <td>21.0</td>\n",
       "      <td>3.888889</td>\n",
       "      <td>6.1</td>\n",
       "      <td>5.01</td>\n",
       "    </tr>\n",
       "    <tr>\n",
       "      <th>3</th>\n",
       "      <td>5.0</td>\n",
       "      <td>39.5</td>\n",
       "      <td>25.4</td>\n",
       "      <td>44.0</td>\n",
       "      <td>6.111111</td>\n",
       "      <td>6.5</td>\n",
       "      <td>5.44</td>\n",
       "    </tr>\n",
       "    <tr>\n",
       "      <th>4</th>\n",
       "      <td>6.0</td>\n",
       "      <td>38.0</td>\n",
       "      <td>25.6</td>\n",
       "      <td>32.0</td>\n",
       "      <td>5.000000</td>\n",
       "      <td>6.9</td>\n",
       "      <td>3.61</td>\n",
       "    </tr>\n",
       "  </tbody>\n",
       "</table>\n",
       "</div>"
      ],
      "text/plain": [
       "   Date April  Max_T  Min_T  RH(%)   WS(mps)  Den(Be)  Evp(mm)\n",
       "0         2.0   37.3   22.6   49.0  6.666667      5.5     3.45\n",
       "1         3.0   37.7   21.9   37.0  3.888889      5.7     3.68\n",
       "2         4.0   39.2   25.2   21.0  3.888889      6.1     5.01\n",
       "3         5.0   39.5   25.4   44.0  6.111111      6.5     5.44\n",
       "4         6.0   38.0   25.6   32.0  5.000000      6.9     3.61"
      ]
     },
     "execution_count": 62,
     "metadata": {},
     "output_type": "execute_result"
    }
   ],
   "source": [
    "raw_data1 = raw_data.iloc[3:, :]\n",
    "raw_data1.columns = ['Date April','Max_T','Min_T', 'RH(%)', 'ws', 'WS(mps)', 'rf','Den(Be)','Evp(mm)']\n",
    "raw_data2 = raw_data1.drop(columns=['ws','rf'])\n",
    "raw_data2.reset_index(drop=True, inplace=True)\n",
    "raw_data2.head()\n"
   ]
  },
  {
   "cell_type": "code",
   "execution_count": 64,
   "metadata": {},
   "outputs": [
    {
     "data": {
      "text/html": [
       "<div>\n",
       "<style scoped>\n",
       "    .dataframe tbody tr th:only-of-type {\n",
       "        vertical-align: middle;\n",
       "    }\n",
       "\n",
       "    .dataframe tbody tr th {\n",
       "        vertical-align: top;\n",
       "    }\n",
       "\n",
       "    .dataframe thead th {\n",
       "        text-align: right;\n",
       "    }\n",
       "</style>\n",
       "<table border=\"1\" class=\"dataframe\">\n",
       "  <thead>\n",
       "    <tr style=\"text-align: right;\">\n",
       "      <th></th>\n",
       "      <th>Date April</th>\n",
       "      <th>Max_T</th>\n",
       "      <th>Min_T</th>\n",
       "      <th>RH(%)</th>\n",
       "      <th>WS(mps)</th>\n",
       "      <th>Den(Be)</th>\n",
       "    </tr>\n",
       "  </thead>\n",
       "  <tbody>\n",
       "    <tr>\n",
       "      <th>0</th>\n",
       "      <td>2.0</td>\n",
       "      <td>37.3</td>\n",
       "      <td>22.6</td>\n",
       "      <td>49.0</td>\n",
       "      <td>6.666667</td>\n",
       "      <td>5.5</td>\n",
       "    </tr>\n",
       "    <tr>\n",
       "      <th>1</th>\n",
       "      <td>3.0</td>\n",
       "      <td>37.7</td>\n",
       "      <td>21.9</td>\n",
       "      <td>37.0</td>\n",
       "      <td>3.888889</td>\n",
       "      <td>5.7</td>\n",
       "    </tr>\n",
       "    <tr>\n",
       "      <th>2</th>\n",
       "      <td>4.0</td>\n",
       "      <td>39.2</td>\n",
       "      <td>25.2</td>\n",
       "      <td>21.0</td>\n",
       "      <td>3.888889</td>\n",
       "      <td>6.1</td>\n",
       "    </tr>\n",
       "    <tr>\n",
       "      <th>3</th>\n",
       "      <td>5.0</td>\n",
       "      <td>39.5</td>\n",
       "      <td>25.4</td>\n",
       "      <td>44.0</td>\n",
       "      <td>6.111111</td>\n",
       "      <td>6.5</td>\n",
       "    </tr>\n",
       "    <tr>\n",
       "      <th>4</th>\n",
       "      <td>6.0</td>\n",
       "      <td>38.0</td>\n",
       "      <td>25.6</td>\n",
       "      <td>32.0</td>\n",
       "      <td>5.000000</td>\n",
       "      <td>6.9</td>\n",
       "    </tr>\n",
       "  </tbody>\n",
       "</table>\n",
       "</div>"
      ],
      "text/plain": [
       "   Date April  Max_T  Min_T  RH(%)   WS(mps)  Den(Be)\n",
       "0         2.0   37.3   22.6   49.0  6.666667      5.5\n",
       "1         3.0   37.7   21.9   37.0  3.888889      5.7\n",
       "2         4.0   39.2   25.2   21.0  3.888889      6.1\n",
       "3         5.0   39.5   25.4   44.0  6.111111      6.5\n",
       "4         6.0   38.0   25.6   32.0  5.000000      6.9"
      ]
     },
     "execution_count": 64,
     "metadata": {},
     "output_type": "execute_result"
    }
   ],
   "source": [
    "# input data\n",
    "data = raw_data2.iloc[:,0:-1]\n",
    "data.head()\n"
   ]
  },
  {
   "cell_type": "code",
   "execution_count": 67,
   "metadata": {},
   "outputs": [
    {
     "data": {
      "text/plain": [
       "0    3.45\n",
       "1    3.68\n",
       "2    5.01\n",
       "3    5.44\n",
       "4    3.61\n",
       "Name: Evp(mm), dtype: float64"
      ]
     },
     "execution_count": 67,
     "metadata": {},
     "output_type": "execute_result"
    }
   ],
   "source": [
    "# target data\n",
    "target = raw_data2.iloc[:,-1]\n",
    "target.head()"
   ]
  },
  {
   "cell_type": "markdown",
   "metadata": {},
   "source": [
    "## Data Checkpoint"
   ]
  },
  {
   "cell_type": "code",
   "execution_count": 68,
   "metadata": {},
   "outputs": [],
   "source": [
    "# data checkpoint\n",
    "input_data = data.copy()"
   ]
  },
  {
   "cell_type": "markdown",
   "metadata": {},
   "source": [
    "## Standardlisation of data"
   ]
  },
  {
   "cell_type": "code",
   "execution_count": 69,
   "metadata": {},
   "outputs": [],
   "source": [
    "# standardlisation of data\n",
    "from sklearn.preprocessing import StandardScaler\n",
    "scaler = StandardScaler()\n",
    "\n",
    "scaled_input = scaler.fit_transform(input_data)"
   ]
  },
  {
   "cell_type": "markdown",
   "metadata": {},
   "source": [
    "## Shuffling the data"
   ]
  },
  {
   "cell_type": "code",
   "execution_count": 82,
   "metadata": {},
   "outputs": [],
   "source": [
    "shuffled_indices = np.arange(scaled_input.shape[0])\n",
    "np.random.shuffle(shuffled_indices)\n",
    "\n",
    "shuffled_inputs = scaled_input[shuffled_indices]\n",
    "shuffled_targets = target[shuffled_indices]\n"
   ]
  },
  {
   "cell_type": "markdown",
   "metadata": {},
   "source": [
    "## Data split"
   ]
  },
  {
   "cell_type": "code",
   "execution_count": 93,
   "metadata": {},
   "outputs": [],
   "source": [
    "sample_count = shuffled_indices.shape[0]\n",
    "\n",
    "train_sample_count = int(0.8 * sample_count)\n",
    "validation_sample_count = int(0.1 * sample_count)\n",
    "test_sample_count = int(0.1 * sample_count)"
   ]
  },
  {
   "cell_type": "code",
   "execution_count": 94,
   "metadata": {},
   "outputs": [
    {
     "name": "stderr",
     "output_type": "stream",
     "text": [
      "C:\\Users\\parmarn\\AppData\\Local\\Temp\\ipykernel_13920\\4038734469.py:2: FutureWarning: The behavior of `series[i:j]` with an integer-dtype index is deprecated. In a future version, this will be treated as *label-based* indexing, consistent with e.g. `series[i]` lookups. To retain the old behavior, use `series.iloc[i:j]`. To get the future behavior, use `series.loc[i:j]`.\n",
      "  train_targets = shuffled_targets[:train_sample_count]\n"
     ]
    }
   ],
   "source": [
    "train_input = shuffled_inputs[:train_sample_count]\n",
    "train_targets = shuffled_targets[:train_sample_count]"
   ]
  },
  {
   "cell_type": "code",
   "execution_count": 95,
   "metadata": {},
   "outputs": [
    {
     "name": "stderr",
     "output_type": "stream",
     "text": [
      "C:\\Users\\parmarn\\AppData\\Local\\Temp\\ipykernel_13920\\2228954484.py:2: FutureWarning: The behavior of `series[i:j]` with an integer-dtype index is deprecated. In a future version, this will be treated as *label-based* indexing, consistent with e.g. `series[i]` lookups. To retain the old behavior, use `series.iloc[i:j]`. To get the future behavior, use `series.loc[i:j]`.\n",
      "  validation_target = shuffled_targets[train_sample_count:train_sample_count+validation_sample_count]\n"
     ]
    }
   ],
   "source": [
    "validation_input = shuffled_inputs[train_sample_count:train_sample_count+validation_sample_count]\n",
    "validation_target = shuffled_targets[train_sample_count:train_sample_count+validation_sample_count]"
   ]
  },
  {
   "cell_type": "code",
   "execution_count": 96,
   "metadata": {},
   "outputs": [
    {
     "name": "stderr",
     "output_type": "stream",
     "text": [
      "C:\\Users\\parmarn\\AppData\\Local\\Temp\\ipykernel_13920\\3458376933.py:2: FutureWarning: The behavior of `series[i:j]` with an integer-dtype index is deprecated. In a future version, this will be treated as *label-based* indexing, consistent with e.g. `series[i]` lookups. To retain the old behavior, use `series.iloc[i:j]`. To get the future behavior, use `series.loc[i:j]`.\n",
      "  test_target = shuffled_targets[train_sample_count+validation_sample_count:]\n"
     ]
    }
   ],
   "source": [
    "test_input = shuffled_inputs[train_sample_count+validation_sample_count:validation_sample_count:]\n",
    "test_target = shuffled_targets[train_sample_count+validation_sample_count:]"
   ]
  },
  {
   "cell_type": "code",
   "execution_count": 97,
   "metadata": {},
   "outputs": [
    {
     "name": "stdout",
     "output_type": "stream",
     "text": [
      "82.48000000000002 17 4.851764705882354\n",
      "15.43 2 7.715\n",
      "15.93 2 7.965\n"
     ]
    }
   ],
   "source": [
    "print(np.sum(train_targets), train_sample_count, np.sum(train_targets) / train_sample_count)\n",
    "print(np.sum(validation_target), validation_sample_count, np.sum(validation_target) / validation_sample_count)\n",
    "print(np.sum(test_target), test_sample_count, np.sum(test_target) / test_sample_count)"
   ]
  },
  {
   "cell_type": "markdown",
   "metadata": {},
   "source": [
    "## Save datasets in *.npz"
   ]
  },
  {
   "cell_type": "code",
   "execution_count": 99,
   "metadata": {},
   "outputs": [],
   "source": [
    "np.savez('seawater_data_train', inputs=train_input, targets=train_targets)\n",
    "np.savez('seawater_data_validation', inputs=validation_input, targets=validation_target)\n",
    "np.savez('seawater_data_test', inputs=test_input, targets=test_target)"
   ]
  }
 ],
 "metadata": {
  "kernelspec": {
   "display_name": "Python 3.10.5 ('.venv': venv)",
   "language": "python",
   "name": "python3"
  },
  "language_info": {
   "codemirror_mode": {
    "name": "ipython",
    "version": 3
   },
   "file_extension": ".py",
   "mimetype": "text/x-python",
   "name": "python",
   "nbconvert_exporter": "python",
   "pygments_lexer": "ipython3",
   "version": "3.10.5"
  },
  "orig_nbformat": 4,
  "vscode": {
   "interpreter": {
    "hash": "ebd78eb58732ed51a1214ed250f845ad2ca7676699e3bdc8f074c0f0c51034e2"
   }
  }
 },
 "nbformat": 4,
 "nbformat_minor": 2
}
