{
 "cells": [
  {
   "cell_type": "markdown",
   "metadata": {},
   "source": [
    "# Create ML & DL algo"
   ]
  },
  {
   "cell_type": "code",
   "execution_count": 254,
   "metadata": {},
   "outputs": [],
   "source": [
    "import numpy as np\n",
    "import pandas as pd\n",
    "import tensorflow as tf "
   ]
  },
  {
   "cell_type": "code",
   "execution_count": 255,
   "metadata": {},
   "outputs": [
    {
     "name": "stderr",
     "output_type": "stream",
     "text": [
      "C:\\Users\\parmarn\\AppData\\Local\\Temp\\ipykernel_364\\794442931.py:3: DeprecationWarning: `np.float` is a deprecated alias for the builtin `float`. To silence this warning, use `float` by itself. Doing this will not modify any behavior and is safe. If you specifically wanted the numpy scalar type, use `np.float64` here.\n",
      "Deprecated in NumPy 1.20; for more details and guidance: https://numpy.org/devdocs/release/1.20.0-notes.html#deprecations\n",
      "  train_inputs = npz['inputs'].astype(np.float)\n",
      "C:\\Users\\parmarn\\AppData\\Local\\Temp\\ipykernel_364\\794442931.py:4: DeprecationWarning: `np.float` is a deprecated alias for the builtin `float`. To silence this warning, use `float` by itself. Doing this will not modify any behavior and is safe. If you specifically wanted the numpy scalar type, use `np.float64` here.\n",
      "Deprecated in NumPy 1.20; for more details and guidance: https://numpy.org/devdocs/release/1.20.0-notes.html#deprecations\n",
      "  train_targets = npz['targets'].astype(np.float)\n",
      "C:\\Users\\parmarn\\AppData\\Local\\Temp\\ipykernel_364\\794442931.py:7: DeprecationWarning: `np.float` is a deprecated alias for the builtin `float`. To silence this warning, use `float` by itself. Doing this will not modify any behavior and is safe. If you specifically wanted the numpy scalar type, use `np.float64` here.\n",
      "Deprecated in NumPy 1.20; for more details and guidance: https://numpy.org/devdocs/release/1.20.0-notes.html#deprecations\n",
      "  validation_inputs, validation_targets = npz['inputs'].astype(np.float), npz['targets'].astype(np.float)\n",
      "C:\\Users\\parmarn\\AppData\\Local\\Temp\\ipykernel_364\\794442931.py:10: DeprecationWarning: `np.float` is a deprecated alias for the builtin `float`. To silence this warning, use `float` by itself. Doing this will not modify any behavior and is safe. If you specifically wanted the numpy scalar type, use `np.float64` here.\n",
      "Deprecated in NumPy 1.20; for more details and guidance: https://numpy.org/devdocs/release/1.20.0-notes.html#deprecations\n",
      "  test_inputs, test_targets = npz['inputs'].astype(np.float), npz['targets'].astype(np.float)\n"
     ]
    }
   ],
   "source": [
    "# data loading from .npz\n",
    "npz = np.load('seawater_data_train.npz')\n",
    "train_inputs = npz['inputs'].astype(np.float)\n",
    "train_targets = npz['targets'].astype(np.float)\n",
    "\n",
    "npz = np.load('seawater_data_validation.npz')\n",
    "validation_inputs, validation_targets = npz['inputs'].astype(np.float), npz['targets'].astype(np.float)\n",
    "\n",
    "npz = np.load('seawater_data_test.npz')\n",
    "test_inputs, test_targets = npz['inputs'].astype(np.float), npz['targets'].astype(np.float)\n"
   ]
  },
  {
   "cell_type": "markdown",
   "metadata": {},
   "source": [
    "## ANN Model"
   ]
  },
  {
   "cell_type": "markdown",
   "metadata": {},
   "source": [
    "Outline, Optimizers, loss function, early stoping and training"
   ]
  },
  {
   "cell_type": "code",
   "execution_count": 256,
   "metadata": {},
   "outputs": [],
   "source": [
    "# model prep\n",
    "input_size = 6\n",
    "output_size = 1\n",
    "hidden_layer_size = 10\n",
    "\n",
    "model = tf.keras.Sequential([\n",
    "    tf.keras.layers.Dense(hidden_layer_size, activation='relu'),\n",
    "    tf.keras.layers.Dense(hidden_layer_size, activation='relu'),\n",
    "    tf.keras.layers.Dense(output_size, activation='linear')\n",
    "])\n"
   ]
  },
  {
   "cell_type": "code",
   "execution_count": 257,
   "metadata": {},
   "outputs": [],
   "source": [
    "# model prep, optimizer and loss function\n",
    "model.compile(optimizer='adam', loss=tf.keras.losses.MeanSquaredError(),metrics=[tf.keras.metrics.MeanAbsoluteError()])\n",
    "              "
   ]
  },
  {
   "cell_type": "code",
   "execution_count": 258,
   "metadata": {},
   "outputs": [],
   "source": [
    "# Training\n",
    "BATCH_SIZE = 1\n",
    "MAX_EPOCHS = 50\n",
    "early_stopping = tf.keras.callbacks.EarlyStopping(patience=2)"
   ]
  },
  {
   "cell_type": "code",
   "execution_count": 259,
   "metadata": {},
   "outputs": [
    {
     "name": "stdout",
     "output_type": "stream",
     "text": [
      "Epoch 1/50\n",
      "17/17 - 1s - loss: 34.3514 - mean_absolute_error: 5.4857 - val_loss: 19.6086 - val_mean_absolute_error: 4.3441 - 1s/epoch - 88ms/step\n",
      "Epoch 2/50\n",
      "17/17 - 0s - loss: 33.2476 - mean_absolute_error: 5.3881 - val_loss: 18.3434 - val_mean_absolute_error: 4.2084 - 73ms/epoch - 4ms/step\n",
      "Epoch 3/50\n",
      "17/17 - 0s - loss: 32.1755 - mean_absolute_error: 5.2992 - val_loss: 17.0403 - val_mean_absolute_error: 4.0627 - 79ms/epoch - 5ms/step\n",
      "Epoch 4/50\n",
      "17/17 - 0s - loss: 31.1124 - mean_absolute_error: 5.2085 - val_loss: 15.7157 - val_mean_absolute_error: 3.9073 - 75ms/epoch - 4ms/step\n",
      "Epoch 5/50\n",
      "17/17 - 0s - loss: 29.8600 - mean_absolute_error: 5.1047 - val_loss: 14.6363 - val_mean_absolute_error: 3.7733 - 81ms/epoch - 5ms/step\n",
      "Epoch 6/50\n",
      "17/17 - 0s - loss: 28.7125 - mean_absolute_error: 5.0010 - val_loss: 13.6228 - val_mean_absolute_error: 3.6398 - 90ms/epoch - 5ms/step\n",
      "Epoch 7/50\n",
      "17/17 - 0s - loss: 27.6248 - mean_absolute_error: 4.8971 - val_loss: 12.6009 - val_mean_absolute_error: 3.4990 - 71ms/epoch - 4ms/step\n",
      "Epoch 8/50\n",
      "17/17 - 0s - loss: 26.3086 - mean_absolute_error: 4.7784 - val_loss: 11.6594 - val_mean_absolute_error: 3.3620 - 81ms/epoch - 5ms/step\n",
      "Epoch 9/50\n",
      "17/17 - 0s - loss: 25.1067 - mean_absolute_error: 4.6545 - val_loss: 10.6967 - val_mean_absolute_error: 3.2172 - 69ms/epoch - 4ms/step\n",
      "Epoch 10/50\n",
      "17/17 - 0s - loss: 23.7927 - mean_absolute_error: 4.5253 - val_loss: 9.6310 - val_mean_absolute_error: 3.0460 - 77ms/epoch - 5ms/step\n",
      "Epoch 11/50\n",
      "17/17 - 0s - loss: 22.4444 - mean_absolute_error: 4.3856 - val_loss: 8.5689 - val_mean_absolute_error: 2.8645 - 81ms/epoch - 5ms/step\n",
      "Epoch 12/50\n",
      "17/17 - 0s - loss: 21.0686 - mean_absolute_error: 4.2304 - val_loss: 7.4194 - val_mean_absolute_error: 2.6614 - 73ms/epoch - 4ms/step\n",
      "Epoch 13/50\n",
      "17/17 - 0s - loss: 19.6030 - mean_absolute_error: 4.0591 - val_loss: 6.2043 - val_mean_absolute_error: 2.4295 - 85ms/epoch - 5ms/step\n",
      "Epoch 14/50\n",
      "17/17 - 0s - loss: 18.1085 - mean_absolute_error: 3.8778 - val_loss: 5.0542 - val_mean_absolute_error: 2.1859 - 102ms/epoch - 6ms/step\n",
      "Epoch 15/50\n",
      "17/17 - 0s - loss: 16.6381 - mean_absolute_error: 3.6940 - val_loss: 4.0053 - val_mean_absolute_error: 1.9364 - 76ms/epoch - 4ms/step\n",
      "Epoch 16/50\n",
      "17/17 - 0s - loss: 15.1779 - mean_absolute_error: 3.4992 - val_loss: 3.1178 - val_mean_absolute_error: 1.6973 - 73ms/epoch - 4ms/step\n",
      "Epoch 17/50\n",
      "17/17 - 0s - loss: 13.7308 - mean_absolute_error: 3.2994 - val_loss: 2.2548 - val_mean_absolute_error: 1.4280 - 69ms/epoch - 4ms/step\n",
      "Epoch 18/50\n",
      "17/17 - 0s - loss: 12.2136 - mean_absolute_error: 3.0639 - val_loss: 1.5065 - val_mean_absolute_error: 1.1571 - 74ms/epoch - 4ms/step\n",
      "Epoch 19/50\n",
      "17/17 - 0s - loss: 10.7846 - mean_absolute_error: 2.8750 - val_loss: 0.8272 - val_mean_absolute_error: 0.8456 - 68ms/epoch - 4ms/step\n",
      "Epoch 20/50\n",
      "17/17 - 0s - loss: 9.2945 - mean_absolute_error: 2.6550 - val_loss: 0.4397 - val_mean_absolute_error: 0.5926 - 65ms/epoch - 4ms/step\n",
      "Epoch 21/50\n",
      "17/17 - 0s - loss: 8.0706 - mean_absolute_error: 2.4640 - val_loss: 0.1487 - val_mean_absolute_error: 0.3172 - 66ms/epoch - 4ms/step\n",
      "Epoch 22/50\n",
      "17/17 - 0s - loss: 6.9512 - mean_absolute_error: 2.2496 - val_loss: 0.0169 - val_mean_absolute_error: 0.1216 - 67ms/epoch - 4ms/step\n",
      "Epoch 23/50\n",
      "17/17 - 0s - loss: 5.8778 - mean_absolute_error: 2.0356 - val_loss: 0.0447 - val_mean_absolute_error: 0.2113 - 70ms/epoch - 4ms/step\n",
      "Epoch 24/50\n",
      "17/17 - 0s - loss: 4.9953 - mean_absolute_error: 1.8400 - val_loss: 0.2049 - val_mean_absolute_error: 0.4385 - 68ms/epoch - 4ms/step\n"
     ]
    },
    {
     "data": {
      "text/plain": [
       "<keras.callbacks.History at 0x208b6f84f10>"
      ]
     },
     "execution_count": 259,
     "metadata": {},
     "output_type": "execute_result"
    }
   ],
   "source": [
    "# fit the model\n",
    "model.fit(\n",
    "    train_inputs, train_targets, batch_size=BATCH_SIZE,epochs=MAX_EPOCHS, callbacks=[early_stopping], validation_data=(validation_inputs, validation_targets), verbose=2\n",
    "          )"
   ]
  },
  {
   "cell_type": "markdown",
   "metadata": {},
   "source": [
    "# Model Test"
   ]
  },
  {
   "cell_type": "code",
   "execution_count": 260,
   "metadata": {},
   "outputs": [
    {
     "name": "stdout",
     "output_type": "stream",
     "text": [
      "1/1 [==============================] - 0s 197ms/step - loss: 2.7474 - mean_absolute_error: 1.2738\n"
     ]
    }
   ],
   "source": [
    "test_loss, test_accuracy = model.evaluate(test_inputs, test_targets)"
   ]
  },
  {
   "cell_type": "code",
   "execution_count": 261,
   "metadata": {},
   "outputs": [
    {
     "name": "stdout",
     "output_type": "stream",
     "text": [
      "\n",
      "Test loss: 2.75. Test accuracy: 127.38%\n"
     ]
    }
   ],
   "source": [
    "print('\\nTest loss: {0:.2f}. Test accuracy: {1:.2f}%'.format(test_loss, test_accuracy*100.))"
   ]
  },
  {
   "cell_type": "code",
   "execution_count": 262,
   "metadata": {},
   "outputs": [
    {
     "name": "stdout",
     "output_type": "stream",
     "text": [
      "1/1 [==============================] - 0s 85ms/step\n"
     ]
    },
    {
     "data": {
      "text/html": [
       "<div>\n",
       "<style scoped>\n",
       "    .dataframe tbody tr th:only-of-type {\n",
       "        vertical-align: middle;\n",
       "    }\n",
       "\n",
       "    .dataframe tbody tr th {\n",
       "        vertical-align: top;\n",
       "    }\n",
       "\n",
       "    .dataframe thead th {\n",
       "        text-align: right;\n",
       "    }\n",
       "</style>\n",
       "<table border=\"1\" class=\"dataframe\">\n",
       "  <thead>\n",
       "    <tr style=\"text-align: right;\">\n",
       "      <th></th>\n",
       "      <th>Targets</th>\n",
       "      <th>prediction</th>\n",
       "    </tr>\n",
       "  </thead>\n",
       "  <tbody>\n",
       "    <tr>\n",
       "      <th>0</th>\n",
       "      <td>5.54</td>\n",
       "      <td>2.768682</td>\n",
       "    </tr>\n",
       "    <tr>\n",
       "      <th>1</th>\n",
       "      <td>3.61</td>\n",
       "      <td>3.158350</td>\n",
       "    </tr>\n",
       "    <tr>\n",
       "      <th>2</th>\n",
       "      <td>5.44</td>\n",
       "      <td>4.841622</td>\n",
       "    </tr>\n",
       "  </tbody>\n",
       "</table>\n",
       "</div>"
      ],
      "text/plain": [
       "   Targets  prediction\n",
       "0     5.54    2.768682\n",
       "1     3.61    3.158350\n",
       "2     5.44    4.841622"
      ]
     },
     "execution_count": 262,
     "metadata": {},
     "output_type": "execute_result"
    }
   ],
   "source": [
    "prediction = model.predict(test_inputs)\n",
    "prediction = pd.DataFrame(prediction)\n",
    "test_targets = pd.DataFrame(test_targets)\n",
    "\n",
    "result = pd.concat([test_targets, prediction], axis = 1, ignore_index=True)\n",
    "result.columns = ['Targets', 'prediction']\n",
    "\n",
    "result"
   ]
  },
  {
   "cell_type": "markdown",
   "metadata": {},
   "source": [
    "# Model Deployment"
   ]
  },
  {
   "cell_type": "code",
   "execution_count": 263,
   "metadata": {},
   "outputs": [],
   "source": [
    "# deploying trained model\n",
    "import keras\n",
    "model.save('sw_model.h5')"
   ]
  },
  {
   "cell_type": "code",
   "execution_count": null,
   "metadata": {},
   "outputs": [],
   "source": []
  }
 ],
 "metadata": {
  "kernelspec": {
   "display_name": "Python 3.10.5 ('.venv': venv)",
   "language": "python",
   "name": "python3"
  },
  "language_info": {
   "codemirror_mode": {
    "name": "ipython",
    "version": 3
   },
   "file_extension": ".py",
   "mimetype": "text/x-python",
   "name": "python",
   "nbconvert_exporter": "python",
   "pygments_lexer": "ipython3",
   "version": "3.10.5"
  },
  "orig_nbformat": 4,
  "vscode": {
   "interpreter": {
    "hash": "ebd78eb58732ed51a1214ed250f845ad2ca7676699e3bdc8f074c0f0c51034e2"
   }
  }
 },
 "nbformat": 4,
 "nbformat_minor": 2
}
